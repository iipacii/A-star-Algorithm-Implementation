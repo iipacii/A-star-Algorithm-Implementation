{
 "cells": [
  {
   "cell_type": "markdown",
   "metadata": {},
   "source": [
    "# <a id='toc1_'></a>[AI Task 3: Probabilistic Pipes](#toc0_)"
   ]
  },
  {
   "cell_type": "markdown",
   "metadata": {},
   "source": [
    "\n",
    "* Change the level from the [loadLevel() function](#toc1_2_)\n",
    "* The Probabilistic implementation is based on random pipe destinations. So the only real change is in the [mapPipes function](#toc1_5_)\n",
    "* Go to the [Main Method](#toc1_12_) to see the output. "
   ]
  },
  {
   "cell_type": "markdown",
   "metadata": {},
   "source": [
    "**References**\n",
    "1. Markdown All in One VsCode Extension for easy table of contents (https://marketplace.visualstudio.com/items?itemName=yzhang.markdown-all-in-one)\n",
    "2. Use of Heapq (https://realpython.com/python-heapq-module/)\n",
    "3. Heapq and open_set (https://codereview.stackexchange.com/questions/20451/a-search-algorithm-open-set-and-heap)\n",
    "4. A* guide (https://medium.com/@nicholas.w.swift/easy-a-star-pathfinding-7e6689c7f7b2)\n",
    "5. A * guide (https://panda-man.medium.com/a-pathfinding-algorithm-efficiently-navigating-the-maze-of-possibilities-8bb16f9cecbd)"
   ]
  },
  {
   "cell_type": "markdown",
   "metadata": {},
   "source": [
    "**Table of contents**<a id='toc0_'></a>    \n",
    "- [AI Task 3: Probabilistic Pipes](#toc1_)    \n",
    "  - [Importing Heapq & Random](#toc1_1_)    \n",
    "  - [loadLevel() function](#toc1_2_)    \n",
    "  - [getStartGoal function](#toc1_3_)    \n",
    "  - [getPipePositions funtion](#toc1_4_)    \n",
    "  - [mapPipes function](#toc1_5_)    \n",
    "  - [calculateHeuristic function](#toc1_6_)    \n",
    "    - [Explanation 1:](#toc1_6_1_)    \n",
    "  - [getNeighbour function](#toc1_7_)    \n",
    "  - [getMoveCost function](#toc1_8_)    \n",
    "  - [isWalkable function](#toc1_9_)    \n",
    "  - [a_star function](#toc1_10_)    \n",
    "  - [reconstructPath function](#toc1_11_)    \n",
    "  - [Main Method](#toc1_12_)    \n"
   ]
  },
  {
   "cell_type": "markdown",
   "metadata": {},
   "source": [
    "## <a id='toc1_1_'></a>[Importing Heapq & Random](#toc0_)"
   ]
  },
  {
   "cell_type": "code",
   "execution_count": null,
   "metadata": {
    "id": "MA1YbLh7W2wO",
    "jupyter": {
     "source_hidden": true
    }
   },
   "outputs": [],
   "source": [
    "import heapq\n",
    "import random"
   ]
  },
  {
   "cell_type": "markdown",
   "metadata": {},
   "source": [
    "## <a id='toc1_2_'></a>[loadLevel() function](#toc0_)"
   ]
  },
  {
   "cell_type": "code",
   "execution_count": null,
   "metadata": {
    "id": "YZcnnpAV8Mfn",
    "jupyter": {
     "source_hidden": true
    }
   },
   "outputs": [],
   "source": [
    "def loadLevel():\n",
    "  level=[]\n",
    "  with open('levels/level1.txt','r') as file: #Change the level here [level1.txt,...level5.txt]\n",
    "    for line in file:\n",
    "      c=line.split(' ')\n",
    "      for el in c:\n",
    "        if('\\n' in el): #Was getting '\\n' character in my level too so had to replace it with blank.\n",
    "          el=el.replace(\"\\n\",\"\")\n",
    "          c.remove(el+'\\n')\n",
    "          c.append(el)\n",
    "      level.append(c)\n",
    "  return(level)"
   ]
  },
  {
   "cell_type": "markdown",
   "metadata": {},
   "source": [
    "## <a id='toc1_3_'></a>[getStartGoal function](#toc0_)"
   ]
  },
  {
   "cell_type": "code",
   "execution_count": null,
   "metadata": {
    "id": "Hdn7qx6yw0OA",
    "jupyter": {
     "source_hidden": true
    }
   },
   "outputs": [],
   "source": [
    "def getStartGoal(level):\n",
    "  for y in level:\n",
    "    for x in y:\n",
    "      if(x=='s'):\n",
    "        start=(level.index(y),y.index(x))\n",
    "      elif(x=='g'):\n",
    "        goal=(level.index(y),y.index(x))\n",
    "  return [start,goal]"
   ]
  },
  {
   "cell_type": "markdown",
   "metadata": {},
   "source": [
    "## <a id='toc1_4_'></a>[getPipePositions funtion](#toc0_)"
   ]
  },
  {
   "cell_type": "code",
   "execution_count": null,
   "metadata": {
    "id": "Y4ujOZi29enP",
    "jupyter": {
     "source_hidden": true
    }
   },
   "outputs": [],
   "source": [
    "def getPipePositions(level):\n",
    "  position=[]\n",
    "  for i in range(len(level)):\n",
    "    # print(i)\n",
    "    for j in range(len(level[i])):\n",
    "      if(level[i][j] == 'p'): #If it finds 'p' in the level, it stores the position in a position list of tuples\n",
    "        position.append((i,j))\n",
    "  print(\"Pipe positions: \",position)\n",
    "  return position"
   ]
  },
  {
   "cell_type": "markdown",
   "metadata": {},
   "source": [
    "## <a id='toc1_5_'></a>[mapPipes function](#toc0_)"
   ]
  },
  {
   "cell_type": "code",
   "execution_count": null,
   "metadata": {
    "id": "UYdJbG1ZCxTT",
    "jupyter": {
     "source_hidden": true
    }
   },
   "outputs": [],
   "source": [
    "#Randomly selects the destination of the pipe based on the pipes available on the map\n",
    "def mapPipes(positions):\n",
    "    p_dict = {}\n",
    "\n",
    "    #Creating a list of available pipe positions\n",
    "    available_pipes = list(positions)  \n",
    "\n",
    "    for pos in positions:\n",
    "        \n",
    "        #Randomly selecting another pipe position from the list\n",
    "        dest_pos = random.choice(available_pipes)\n",
    "        p_dict[pos] = dest_pos\n",
    "\n",
    "        #Remove the selected pipe position from the list\n",
    "        available_pipes.remove(dest_pos)  \n",
    "    print(\"The random pipe destinations are:\")\n",
    "    print(p_dict)\n",
    "    return p_dict\n",
    "    #  return {(1, 0): (3, 1), (1, 3): (1, 0), (3, 1): (1, 0), (4, 2): (1, 0)}"
   ]
  },
  {
   "cell_type": "markdown",
   "metadata": {},
   "source": [
    "## <a id='toc1_6_'></a>[calculateHeuristic function](#toc0_)"
   ]
  },
  {
   "cell_type": "code",
   "execution_count": null,
   "metadata": {
    "id": "n--2029fAGD2",
    "jupyter": {
     "source_hidden": true
    }
   },
   "outputs": [],
   "source": [
    "def calculateHeuristic(level, p_dict, previous_pipe_heuristic=None):\n",
    "    heuristic = level\n",
    "    height = len(level)\n",
    "    width = len(level[0])\n",
    "\n",
    "# Finding the goal position 'g'\n",
    "    goal_position = None\n",
    "    for y in range(height):\n",
    "        for x in range(width):\n",
    "            if level[y][x] == 'g':\n",
    "                goal_position = (x, y)\n",
    "                break\n",
    "        if goal_position:\n",
    "            break\n",
    "\n",
    "    if not goal_position:\n",
    "        raise ValueError(\"Goal not found\")\n",
    "\n",
    "#Creating a 2d list called heuristic values of the same height and width as level\n",
    "    heuristic_values = [[0 for _ in range(width)] for _ in range(height)]\n",
    "\n",
    "    for y in range(height):\n",
    "        for x in range(width):\n",
    "            if level[y][x] == '.':  # Checking if the cell is walkable\n",
    "                heuristic_values[y][x] = abs(x - goal_position[0]) + abs(y - goal_position[1]) #Using manhattan distance\n",
    "            elif level[y][x] == 'p': # Checking if the cell is a pipe\n",
    "                temp = (y, x)\n",
    "                destination = p_dict.get(temp) # Getting the destination of the pipe\n",
    "                if destination:\n",
    "                    b, a = destination  # Destination position\n",
    "                    if previous_pipe_heuristic is not None: #Explained in the markdown below this cell\n",
    "                        heuristic_values[y][x] = previous_pipe_heuristic  # Use previous pipe's heuristic\n",
    "                    else:\n",
    "                        heuristic_values[y][x] = abs(int(a) - goal_position[0]) + abs(int(b) - goal_position[1])\n",
    "                else:\n",
    "                    heuristic_values[y][x] = 100  # A big value for obstacle\n",
    "            elif level[y][x] == 'o':\n",
    "                heuristic_values[y][x] = 100\n",
    "\n",
    "    return heuristic_values\n"
   ]
  },
  {
   "cell_type": "markdown",
   "metadata": {},
   "source": [
    "### <a id='toc1_6_1_'></a>[Explanation:](#toc0_)\n",
    " Here, we have a variable called `previous_pipe_heuristic` . This is used to address a specific problem involving the following senario:\n",
    "\n",
    " Assumption:\n",
    " 1. If mario goes to a pipe, he has to enter the pipe. So an appropriate heuristic would be the heuristic(Manhattan distance to the goal) of the destination pipe.\n",
    " 2. If mario is teleported to a pipe, he cannot reenter the same pipe.\n",
    "\n",
    " Problem:\n",
    " * Suppose pipe distance of P1 -> Goal = 7\n",
    " * Suppose pipe distance of P2 -> Goal = 2\n",
    " * Suppose pipe distance of P3 -> Goal = 7\n",
    " * Mapings: P1->P2 ; P2->P3\n",
    " * Heuristics: P1 = 2; P2 =7\n",
    " * However, if we are exiting from P2, our heuristic should be 2 *NOT* 7.\n",
    "\n",
    " Solution:\n",
    " Keep track if you reached the pipe from a pipe (teleported) or a cell (walked).  \n"
   ]
  },
  {
   "cell_type": "markdown",
   "metadata": {},
   "source": [
    "## <a id='toc1_7_'></a>[getNeighbour function](#toc0_)"
   ]
  },
  {
   "cell_type": "code",
   "execution_count": null,
   "metadata": {
    "id": "6OF_jyCiN8fW",
    "jupyter": {
     "source_hidden": true
    }
   },
   "outputs": [],
   "source": [
    "#Used to get the adjacent cells (neighbors) and also, pipe destination is the neighbor of a pipe.\n",
    "def getNeighbours(current, level, p_dict, previous_position):\n",
    "    y, x = current\n",
    "    nbrs = []\n",
    "\n",
    "    #If adjacent cells are not obstacles and within the level, add them to nbrs list\n",
    "\n",
    "    if isWalkable(y + 1, x) and y + 1 < len(level):\n",
    "        nbrs.append((y + 1, x))\n",
    "    if isWalkable(y - 1, x) and y - 1 >= 0:\n",
    "        nbrs.append((y - 1, x))\n",
    "    if isWalkable(y, x + 1) and x + 1 < len(level[0]):\n",
    "        nbrs.append((y, x + 1))\n",
    "    if isWalkable(y, x - 1) and x - 1 >= 0:\n",
    "        nbrs.append((y, x - 1))\n",
    "\n",
    "    # If the previous position is a pipe, we cant add the its destination as a neighbor. Explanation 1.\n",
    "    if previous_position and level[previous_position[0]][previous_position[1]] == 'p':\n",
    "        return nbrs  # If the player came from a pipe, return adjacent cells\n",
    "\n",
    "    if level[y][x] == 'p':\n",
    "        pipe_destination = p_dict.get(current)\n",
    "        if pipe_destination:\n",
    "            nbrs = [pipe_destination]  # If the player came from an adjacent cell, only the destination is a neighbor\n",
    "\n",
    "    return nbrs"
   ]
  },
  {
   "cell_type": "markdown",
   "metadata": {},
   "source": [
    "## <a id='toc1_8_'></a>[getMoveCost function](#toc0_)"
   ]
  },
  {
   "cell_type": "code",
   "execution_count": null,
   "metadata": {
    "id": "vlKWm32OPBkg",
    "jupyter": {
     "source_hidden": true
    }
   },
   "outputs": [],
   "source": [
    "#Even though it seems like the cost to move to a pipe is 1, the cost of teleporting is also 1 making it 1+1=2\n",
    "def getMoveCost(current, neighbor, level, p_dict):\n",
    "    y, x = neighbor\n",
    "    cell_type = level[y][x]\n",
    "\n",
    "    if cell_type == 'p':\n",
    "        return 1  # Cost to enter and exit a pipe\n",
    "    elif cell_type == 'o':\n",
    "        return float('inf')  # Infinite cost for obstacles\n",
    "    else:\n",
    "        return 1  # Default cost for other cells\n"
   ]
  },
  {
   "cell_type": "markdown",
   "metadata": {},
   "source": [
    "## <a id='toc1_9_'></a>[isWalkable function](#toc0_)"
   ]
  },
  {
   "cell_type": "code",
   "execution_count": null,
   "metadata": {
    "id": "JvMcbMtTF0qS",
    "jupyter": {
     "source_hidden": true
    }
   },
   "outputs": [],
   "source": [
    "#Checking if we dont move to out of bounds area or a cell which is an obstacle\n",
    "def isWalkable(y,x):\n",
    "  if(y<0 or x<0):\n",
    "    return False\n",
    "  try:\n",
    "    if(level[y][x] != 'o'):\n",
    "      return True\n",
    "  except: IndexError\n",
    "  return False"
   ]
  },
  {
   "cell_type": "markdown",
   "metadata": {},
   "source": [
    "## <a id='toc1_10_'></a>[a_star function](#toc0_)"
   ]
  },
  {
   "cell_type": "code",
   "execution_count": null,
   "metadata": {
    "id": "WgJTZrLAGEKG",
    "jupyter": {
     "source_hidden": true
    }
   },
   "outputs": [],
   "source": [
    "def a_star(start, goal, level, heuristic, p_dict):\n",
    "    open_set = []  \n",
    "    \n",
    "    #Priority queue for open nodes\n",
    "    heapq.heappush(open_set, (0, start))\n",
    "    \n",
    "    #Dictionary to store the parent of each node so that later it becomes easier to refer\n",
    "    came_from = {}  \n",
    "    \n",
    "    #Initializing the gscore as inf for all cells except the start cell\n",
    "    g_score = {(i, j): float('inf') for i in range(len(level)) for j in range(len(level[0]))} \n",
    "    g_score[start] = 0\n",
    "    \n",
    "    #Dictionary to store the cost to reach each node\n",
    "    cost_so_far = {} \n",
    "    cost_so_far[start] = 0\n",
    "\n",
    "    previous_position = None  #Store the previous position\n",
    "\n",
    "    #Store the heuristic of the previous pipe (required when we want to identify if we are in a pipe which is the entry or the exit)\n",
    "    previous_pipe_heuristic = None  \n",
    "    dest_heuristic=None\n",
    "\n",
    "    while open_set: #Run until there are no more cells left or goal is found\n",
    "        \n",
    "         #Unpacking the open_set queue. f is never used but we have to add a variable to unpack.\n",
    "        f, current = heapq.heappop(open_set)\n",
    "\n",
    "        if current == goal: #Goal Found\n",
    "            return reconstructPath(came_from, current), cost_so_far[goal]  #Return the path and total cost\n",
    "\n",
    "\n",
    "        #Iterate through all the neighbours of the current cell\n",
    "        for neighbor in getNeighbours(current, level, p_dict, previous_position):\n",
    "           \n",
    "            #If level is a pipe and its neighbour is a pipe; store the heuristic so that the destination pipe can use it in the next loop\n",
    "            if (level[current[0]][current[1]]==\"p\" and level[neighbor[0]][neighbor[1]]==\"p\"): \n",
    "              dest_heuristic=heuristic[current[0]][current[1]]\n",
    "\n",
    "            #Find the g_cost of a neighbour\n",
    "            tentative_g_score = g_score[current] + getMoveCost(current, neighbor, level, p_dict) \n",
    "\n",
    "            #finding the f_score of the neighbour cells and pushing it to the priority queue\n",
    "           \n",
    "            #If gcost of neighbor is less than change current to that cell (the f_score is later compared in the queue itself). This is done so that the agent doesn't go back to the parent.\n",
    "            if tentative_g_score < g_score[neighbor]: \n",
    "                came_from[neighbor] = current\n",
    "                g_score[neighbor] = tentative_g_score\n",
    "                \n",
    "                #If the cell came is a pipe and will teleport\n",
    "                if (dest_heuristic): \n",
    "                  f_score= f_score = g_score[neighbor] + dest_heuristic\n",
    "                else:\n",
    "                  f_score = g_score[neighbor] + heuristic[neighbor[0]][neighbor[1]]\n",
    "                \n",
    "                #Store the cost to reach this neighbor\n",
    "                cost_so_far[neighbor] = tentative_g_score \n",
    "                \n",
    "                #Push the f_score, neighbor into the open_set \n",
    "                heapq.heappush(open_set, (f_score, neighbor)) \n",
    "            previous_position = current #For next loop\n",
    "            # print(heuristic[neighbor[0]][neighbor[1]])\n",
    "\n",
    "            #Once we come out of a pipe, we dont need the dest_heuristic\n",
    "            dest_heuristic=None \n",
    "    return None, float('inf')  # No path found and infinite cost\n"
   ]
  },
  {
   "cell_type": "markdown",
   "metadata": {},
   "source": [
    "## <a id='toc1_11_'></a>[reconstructPath function](#toc0_)"
   ]
  },
  {
   "cell_type": "code",
   "execution_count": null,
   "metadata": {
    "id": "YAHIttMvOQZy",
    "jupyter": {
     "source_hidden": true
    }
   },
   "outputs": [],
   "source": [
    "#Searches the parent node, if it finds it changes itself to parent node and repeats the process\n",
    "def reconstructPath(came_from, current):\n",
    "    path = [current]\n",
    "    while current in came_from:\n",
    "        current = came_from[current]\n",
    "        path.append(current)\n",
    "    path.reverse()  # Reverse the path to get it from start to goal\n",
    "    return path"
   ]
  },
  {
   "cell_type": "markdown",
   "metadata": {},
   "source": [
    "## <a id='toc1_12_'></a>[Main Method](#toc0_)"
   ]
  },
  {
   "cell_type": "code",
   "execution_count": null,
   "metadata": {
    "colab": {
     "base_uri": "https://localhost:8080/"
    },
    "id": "GKeBNiYbRFLD",
    "jupyter": {
     "source_hidden": true
    },
    "outputId": "2c74f05d-4638-44ee-c863-d18bd6822784"
   },
   "outputs": [],
   "source": [
    "level = loadLevel()\n",
    "pipe_positions = getPipePositions(level)\n",
    "p_dict = mapPipes(pipe_positions)\n",
    "\n",
    "# Calculate the heuristic values\n",
    "heuristic_values = calculateHeuristic(level, p_dict)\n",
    "\n",
    "# start = (0, 0)  #Start\n",
    "# goal = (4, 4)   #Goal\n",
    "start,goal = getStartGoal(level)\n",
    "\n",
    "path, total_cost = a_star(start, goal, level, heuristic_values, p_dict)\n",
    "\n",
    "#Printing step by step\n",
    "\n",
    "if path:\n",
    "    print(\"Path found:\")\n",
    "    print(\"Start:\", start)\n",
    "    for i in range(len(path) - 1):\n",
    "        print(\"Step:\", i + 1)\n",
    "        print(\"Move from\", path[i], \"to\", path[i + 1], \"Cost:\", getMoveCost(path[i], path[i + 1], level, p_dict))\n",
    "    print(\"Total Cost:\", total_cost)\n",
    "\n",
    "#Code to print the path as '*'\n",
    "\n",
    "    for i in range(len(level)):\n",
    "        for j in range(len(level[i])):\n",
    "            if (i, j) == start:\n",
    "                print(\"S\", end=\" \")\n",
    "            elif (i, j) == goal:\n",
    "                print(\"G\", end=\" \")\n",
    "            elif (i, j) in path:\n",
    "                print(\"*\", end=\" \")\n",
    "            else:\n",
    "                print(level[i][j], end=\" \")\n",
    "        print()\n",
    "else:\n",
    "    print(\"No path found.\")"
   ]
  },
  {
   "cell_type": "code",
   "execution_count": null,
   "metadata": {
    "id": "0W0EpyUMyfka",
    "jupyter": {
     "source_hidden": true
    }
   },
   "outputs": [],
   "source": []
  }
 ],
 "metadata": {
  "colab": {
   "collapsed_sections": [
    "_JSBFX7rFPya",
    "5BkTq7nSFSzr",
    "tVGsa2ACFXkZ",
    "dtqBzDO-FbqT",
    "fQtCe_PxFhG2",
    "4Z24FUOlFkx2",
    "ias0iHPQFozM",
    "xkluRESiFsTw",
    "Df5ResYpFu0E",
    "mljVn0X1Fxp7",
    "apM2X-X4F0dk",
    "ZcFIF0tpF6Ah"
   ],
   "provenance": []
  },
  "kernelspec": {
   "display_name": "Python 3 (ipykernel)",
   "language": "python",
   "name": "python3"
  },
  "language_info": {
   "codemirror_mode": {
    "name": "ipython",
    "version": 3
   },
   "file_extension": ".py",
   "mimetype": "text/x-python",
   "name": "python",
   "nbconvert_exporter": "python",
   "pygments_lexer": "ipython3",
   "version": "3.12.0"
  }
 },
 "nbformat": 4,
 "nbformat_minor": 4
}
